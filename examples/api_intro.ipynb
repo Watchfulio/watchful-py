{
 "cells": [
  {
   "cell_type": "markdown",
   "metadata": {},
   "source": [
    "# Watchful Python API\n",
    "\n",
    "This notebock introduces the Watchful Python API with some examples.\n",
    "Be sure to check the documentation as there's more you can do.\n",
    "\n",
    "Of course, since everything here is just Python, you can use it outside a Jupyter notebook just as well.\n",
    "\n",
    "First, we need to get Watchful running, so we have two options:\n",
    "\n",
    "  - run an ephemeral backend, which will forget your data when you exit the backend\n",
    "  - connect to a backend that you run from a terminal or from the MacOS bundled application\n",
    "\n",
    "For the purposes of experimenting with the API, the ephemeral option is much more convenient, so that's what we'll do here.\n",
    "\n",
    "The server output is saved in a file, called watchful_ephemeral_output.txt, probably in the same directory you ran the Jupyter notebook command from.\n",
    "This can be useful to look at if anything goes wrong.\n",
    "\n",
    "It's good to be aware that this file contains a complete record of your session, so if you import a lot of data, the file will be correspondingly big, and you might want to delete it to save space.\n",
    "\n",
    "The Python 3.8.12 environment is used to run this notebook."
   ]
  },
  {
   "cell_type": "code",
   "execution_count": 1,
   "metadata": {},
   "outputs": [],
   "source": [
    "# Install the dependencies\n",
    "import sys\n",
    "!{sys.executable} -m pip install -r requirements_api_intro.txt"
   ]
  },
  {
   "cell_type": "code",
   "execution_count": 2,
   "metadata": {},
   "outputs": [],
   "source": [
    "# Install and import Watchful SDK 🙂\n",
    "import sys\n",
    "!{sys.executable} -m pip install watchful --upgrade\n",
    "import watchful as w"
   ]
  },
  {
   "cell_type": "code",
   "execution_count": 3,
   "metadata": {},
   "outputs": [],
   "source": [
    "# Run the ephemeral backend. It will listen on port 9002 by default.\n",
    "# If you get timeout errors here, make sure the path to your watchful binary is in your PATH by\n",
    "# uncommenting the code below, setting `path_to_your_watchful_directory` and then running this cell.\n",
    "#import os\n",
    "#path_to_your_watchful_directory = \"\"\n",
    "#os.environ[\"PATH\"] += \":\" + path_to_your_watchful_directory\n",
    "w.ephemeral()"
   ]
  },
  {
   "cell_type": "markdown",
   "metadata": {},
   "source": [
    "## Connecting to an already-running Watchful instance\n",
    "\n",
    "If you're creating hinters in an existing project, you may want to run the MacOS application and connect to it that way, or run the backend directly on any supported OS, and connect to an existing project.\n",
    "Here's what that would look like:"
   ]
  },
  {
   "cell_type": "code",
   "execution_count": 4,
   "metadata": {},
   "outputs": [],
   "source": [
    "# first run the app or run the backend yourself, and then call `external()`.\n",
    "\n",
    "#w.external()\n",
    "\n",
    "# You can also specify a non-default port.\n",
    "# Use the `--port / -p` option to the backend.\n",
    "\n",
    "#w.external(\"localhost\", \"9001\")"
   ]
  },
  {
   "cell_type": "markdown",
   "metadata": {},
   "source": [
    "When not running in ephemeral mode, you need to open or create a project before you can do anything else.\n",
    "\n",
    "If you already opened the project in the app or through the web frontend (usually [http://localhost:9001/]) then you don't need to do anything except `w.external()` to connect to the running app that already has the project open. But if you are using the API only then you will need to open the project through the API:"
   ]
  },
  {
   "cell_type": "code",
   "execution_count": 5,
   "metadata": {},
   "outputs": [],
   "source": [
    "#w.list_projects()\n",
    "#w.open_project(...)"
   ]
  },
  {
   "cell_type": "markdown",
   "metadata": {},
   "source": [
    "The projects list is a list of all the projects in your Watchful directory.\n",
    "\n",
    "`w.list_projects()` includes every `*.hints` file in your watchful directory, but you can open a hints file outside of this directory as well by passing it to `w.open_project()`.\n",
    "\n",
    "If you are using running the app yourself and connecting to it with `external()` then if you call `open_project` you will see that project also open in the app.\n",
    "\n",
    "If you're not using the frontend to manage your projects, and want to do everything with the API, you can create a new project with `w.new_project()`.\n",
    "It will be opened automatically, so you don't need to call `w.open_project()`.\n",
    "You can give it a title with `w.title(\"My Project\")`.\n",
    "\n",
    "We recommend using the frontend and the API at the same time, so you can connect to the API in a notebook or from plain Python, and at the same time also see a nice overview in the UI."
   ]
  },
  {
   "cell_type": "markdown",
   "metadata": {},
   "source": [
    "# A walk through the API\n",
    "\n",
    "Now that we're connected, let's take a look at the key parts of the API that are most commonly used."
   ]
  },
  {
   "cell_type": "markdown",
   "metadata": {},
   "source": [
    "# `get()`\n",
    "\n",
    "You can use `get()` at any time to get the current status.\n",
    "The structure returned is called the `summary`, and it is fairly complete.\n",
    "It's worth noting that the frontend of the app gets everything that it displays from this same `summary` object, so if you see it in the frontend, you can find it in the `summary`.\n",
    "As always, the API docs have more details if you need them.\n",
    "\n",
    "The `summary` object is returned from every API call, not just get().\n",
    "\n",
    "The `summary` below is empty because we don't have any data yet, but it shows the fields that are always there."
   ]
  },
  {
   "cell_type": "code",
   "execution_count": 6,
   "metadata": {},
   "outputs": [
    {
     "data": {
      "text/plain": [
       "{'cand_seq_full': 0,\n",
       " 'cand_seq_prefix': 0,\n",
       " 'candidates': [],\n",
       " 'classes': {},\n",
       " 'error_msg': None,\n",
       " 'error_verb': None,\n",
       " 'exports': [],\n",
       " 'field_names': [],\n",
       " 'hinters': [],\n",
       " 'n_candidates': 0,\n",
       " 'n_handlabels': 0,\n",
       " 'query': '',\n",
       " 'query_end': True,\n",
       " 'query_examined': 0,\n",
       " 'query_hit_count': 0,\n",
       " 'query_page': 0,\n",
       " 'selected_class': '',\n",
       " 'selections': [],\n",
       " 'state_seq': 2,\n",
       " 'status': 'current',\n",
       " 'suggestions': {'negative': [], 'positive': []},\n",
       " 'title': ''}"
      ]
     },
     "execution_count": 6,
     "metadata": {},
     "output_type": "execute_result"
    }
   ],
   "source": [
    "w.get()"
   ]
  },
  {
   "cell_type": "markdown",
   "metadata": {},
   "source": [
    "Or we can do this:"
   ]
  },
  {
   "cell_type": "code",
   "execution_count": 7,
   "metadata": {},
   "outputs": [
    {
     "data": {
      "text/plain": [
       "dict_keys(['cand_seq_full', 'cand_seq_prefix', 'candidates', 'classes', 'datasets', 'error_msg', 'error_verb', 'exports', 'field_names', 'hinters', 'messages', 'mode', 'n_candidates', 'n_handlabels', 'published_title', 'pull_actions', 'push_actions', 'query', 'query_end', 'query_examined', 'query_hit_count', 'query_page', 'selected_class', 'selections', 'state_seq', 'status', 'suggestions', 'title', 'unlabeled_candidate'])"
      ]
     },
     "execution_count": 7,
     "metadata": {},
     "output_type": "execute_result"
    }
   ],
   "source": [
    "w.get().keys()"
   ]
  },
  {
   "cell_type": "markdown",
   "metadata": {},
   "source": [
    "It's worth mentioning a couple of these fields that are especially important.\n",
    "The `status` field tells you whether the backend is doing work or not, and as we can see here it is \"current\", which is usually what you want.\n",
    "If it is \"working\", then the backend is still doing some work, and you can expect that some things may change.\n",
    "An example is creating a hinter, as we'll do below, when you can see that the summary object returns immediately with a status of \"working\", and the hinter is fully applied to all the candidates in the background, at which point it will go back to \"current\".\n",
    "\n",
    "The second field is `error_msg`, which is how errors are reported.\n",
    "If there is a value in this field, it means the API request did not succeed, so check this field when appropriate."
   ]
  },
  {
   "cell_type": "markdown",
   "metadata": {},
   "source": [
    "# Loading and querying data\n",
    "\n",
    "If you want to edit the notebook here and import a CSV from your own computer, here is how:"
   ]
  },
  {
   "cell_type": "code",
   "execution_count": 7,
   "metadata": {},
   "outputs": [],
   "source": [
    "#csv = open(\"~/path/to/data.csv\").read()"
   ]
  },
  {
   "cell_type": "markdown",
   "metadata": {},
   "source": [
    "We just want to focus on the API here without getting distracted by real data, so we'll use integers from 1 to 1000 as a toy example.\n",
    "We add newlines to separate them, and this is a minimal CSV file containing a single column.\n",
    "When we import it, the system will give the first (and only) column a field name of \"F1\"."
   ]
  },
  {
   "cell_type": "code",
   "execution_count": 8,
   "metadata": {},
   "outputs": [],
   "source": [
    "csv = \"\"\n",
    "\n",
    "for i in range(1000):\n",
    "    csv += str(i) + \"\\n\""
   ]
  },
  {
   "cell_type": "markdown",
   "metadata": {},
   "source": [
    "Now we import the CSV data into watchful with `records()`.\n",
    "\n",
    "Since the `summary` object is always returned from any API call, we just directly index the `n_candidates` field to make sure that importing the data worked, and we expect to see 1000 candidates loaded."
   ]
  },
  {
   "cell_type": "code",
   "execution_count": 9,
   "metadata": {
    "scrolled": true
   },
   "outputs": [
    {
     "data": {
      "text/plain": [
       "1000"
      ]
     },
     "execution_count": 9,
     "metadata": {},
     "output_type": "execute_result"
    }
   ],
   "source": [
    "w.records(csv)['n_candidates']"
   ]
  },
  {
   "cell_type": "markdown",
   "metadata": {},
   "source": [
    "Now we can do a query.\n",
    "\n",
    "Since our data is just numbers, we'll just look for occurrences of the regex `/88/`, or two eight digits in a row.\n",
    "If you like these kinds of puzzles, take a moment to guess how many numbers there are between 1 and 1000 that have the digit pattern \"88\" somewhere in them.\n",
    "\n",
    "We'll print the whole summary object here, so we can see what it looks like when there is some data."
   ]
  },
  {
   "cell_type": "code",
   "execution_count": 10,
   "metadata": {},
   "outputs": [
    {
     "data": {
      "text/plain": [
       "{'cand_seq_full': 0,\n",
       " 'cand_seq_prefix': 0,\n",
       " 'candidates': [{'fields': ['688'],\n",
       "   'hints': [],\n",
       "   'labels': {},\n",
       "   'matches': {'by_hinter': [], 'query': [[[1, 3]]]}},\n",
       "  {'fields': ['884'],\n",
       "   'hints': [],\n",
       "   'labels': {},\n",
       "   'matches': {'by_hinter': [], 'query': [[[0, 2]]]}},\n",
       "  {'fields': ['881'],\n",
       "   'hints': [],\n",
       "   'labels': {},\n",
       "   'matches': {'by_hinter': [], 'query': [[[0, 2]]]}},\n",
       "  {'fields': ['888'],\n",
       "   'hints': [],\n",
       "   'labels': {},\n",
       "   'matches': {'by_hinter': [], 'query': [[[0, 2]]]}},\n",
       "  {'fields': ['883'],\n",
       "   'hints': [],\n",
       "   'labels': {},\n",
       "   'matches': {'by_hinter': [], 'query': [[[0, 2]]]}},\n",
       "  {'fields': ['988'],\n",
       "   'hints': [],\n",
       "   'labels': {},\n",
       "   'matches': {'by_hinter': [], 'query': [[[1, 3]]]}},\n",
       "  {'fields': ['388'],\n",
       "   'hints': [],\n",
       "   'labels': {},\n",
       "   'matches': {'by_hinter': [], 'query': [[[1, 3]]]}},\n",
       "  {'fields': ['885'],\n",
       "   'hints': [],\n",
       "   'labels': {},\n",
       "   'matches': {'by_hinter': [], 'query': [[[0, 2]]]}}],\n",
       " 'classes': {},\n",
       " 'error_msg': None,\n",
       " 'error_verb': None,\n",
       " 'exports': [],\n",
       " 'field_names': ['F1'],\n",
       " 'hinters': [],\n",
       " 'n_candidates': 1000,\n",
       " 'n_handlabels': 0,\n",
       " 'query': '/88/',\n",
       " 'query_end': False,\n",
       " 'query_examined': 1000,\n",
       " 'query_hit_count': 19,\n",
       " 'query_page': 0,\n",
       " 'selected_class': '',\n",
       " 'selections': [],\n",
       " 'state_seq': 8,\n",
       " 'status': 'current',\n",
       " 'suggestions': {'negative': [], 'positive': []},\n",
       " 'title': ''}"
      ]
     },
     "execution_count": 10,
     "metadata": {},
     "output_type": "execute_result"
    }
   ],
   "source": [
    "w.query(\"/88/\")"
   ]
  },
  {
   "cell_type": "markdown",
   "metadata": {},
   "source": [
    "We can see the `query_examined` is 1000, which means it finished searching all the data before returning.\n",
    "Often we work with larger data sets and so typically the query will continue to run in the background, but since this data set is so small, it returns all the results.\n",
    "We also see `query_hit_count` is 19, which is the answer to our puzzle above (ten for 88, 188, ... 988, and ten from 880-889, but we counted 888 twice, so only 19 not 20).\n",
    "\n",
    "Finally we see that eight candidates are returned that match the query."
   ]
  },
  {
   "cell_type": "markdown",
   "metadata": {},
   "source": [
    "# Now set a base rate, create a hinter, and check for matches\n",
    "\n",
    "Let's look at the API for creating a class and a hinter for that class.\n",
    "\n",
    "Either setting a base rate or creating a hinter will create the class for us.\n",
    "\n",
    "We'll create a class of \"interesting numbers\", with a base rate of 10%.\n",
    "\n",
    "Numbers ending in \"7\" can be interesting, so we'll create a hinter for those with a weight of 80%.\n",
    "\n",
    "Anything this hinter matches on our data set should come back with a probability for the class of 80%, at least until we start adding other hinters to the mix.\n",
    "\n",
    "So we'll do a query, print a matching candidate, and check that the hinter was applied and also that the probability for the class is what it should be."
   ]
  },
  {
   "cell_type": "code",
   "execution_count": 11,
   "metadata": {},
   "outputs": [
    {
     "data": {
      "text/plain": [
       "{'fields': ['677'],\n",
       " 'hints': [1],\n",
       " 'labels': {'Interesting': 80},\n",
       " 'matches': {'by_hinter': [[1, [[[2, 3]]]]], 'query': [[[2, 3]]]}}"
      ]
     },
     "execution_count": 11,
     "metadata": {},
     "output_type": "execute_result"
    }
   ],
   "source": [
    "w.base_rate(\"Interesting\", 10)\n",
    "w.hinter(\"Interesting\", \"/7$/\", 80)\n",
    "w.query(\"/7$/\")['candidates'][0]"
   ]
  },
  {
   "cell_type": "markdown",
   "metadata": {},
   "source": [
    "So we can see that hinter 1 was applied, and the candidates has 80% for the \"Interesting\" class."
   ]
  },
  {
   "cell_type": "markdown",
   "metadata": {},
   "source": [
    "We can see all the hinters we have by looking at \"hinters\" on the `summary`:"
   ]
  },
  {
   "cell_type": "code",
   "execution_count": 12,
   "metadata": {},
   "outputs": [
    {
     "data": {
      "text/plain": [
       "[{'hit_ratio': [100, 1000],\n",
       "  'id': 1,\n",
       "  'label': 'Interesting',\n",
       "  'name': '',\n",
       "  'query': '/7$/',\n",
       "  'weight': 80}]"
      ]
     },
     "execution_count": 12,
     "metadata": {},
     "output_type": "execute_result"
    }
   ],
   "source": [
    "w.get()['hinters']"
   ]
  },
  {
   "cell_type": "markdown",
   "metadata": {},
   "source": [
    "# We can create a hinter from external data\n",
    "\n",
    "Sometimes you can't extract all the data you want using a regex, or you need to query an external data source for a hinter.\n",
    "\"External hinters\" let you provide the hint values yourself for each candidate.\n",
    "\n",
    "Since we are looking for interesting numbers, prime numbers might be interesting.\n",
    "Perhaps it is possible to write a regex to recognize prime numbers, but it doesn't sound like a good idea, so let's use an external hinter!"
   ]
  },
  {
   "cell_type": "code",
   "execution_count": 13,
   "metadata": {},
   "outputs": [
    {
     "data": {
      "text/plain": [
       "[{'hit_ratio': [100, 1000],\n",
       "  'id': 1,\n",
       "  'label': 'Interesting',\n",
       "  'name': '',\n",
       "  'query': '/7$/',\n",
       "  'weight': 80}]"
      ]
     },
     "execution_count": 13,
     "metadata": {},
     "output_type": "execute_result"
    }
   ],
   "source": [
    "# get the hinters\n",
    "w.get()[\"hinters\"]"
   ]
  },
  {
   "cell_type": "code",
   "execution_count": 14,
   "metadata": {},
   "outputs": [
    {
     "data": {
      "text/plain": [
       "[{'hit_ratio': [100, 1000],\n",
       "  'id': 1,\n",
       "  'label': 'Interesting',\n",
       "  'name': '',\n",
       "  'query': '/7$/',\n",
       "  'weight': 80},\n",
       " {'hit_ratio': [0, 0],\n",
       "  'id': 2,\n",
       "  'label': 'Interesting',\n",
       "  'name': 'prime',\n",
       "  'query': '[external]',\n",
       "  'weight': 90}]"
      ]
     },
     "execution_count": 14,
     "metadata": {},
     "output_type": "execute_result"
    }
   ],
   "source": [
    "w.external_hinter(\"Interesting\", \"prime\", 90)[\"hinters\"]"
   ]
  },
  {
   "cell_type": "markdown",
   "metadata": {},
   "source": [
    "We called `external_hinter` which takes the class name, the name of the hinter, and the expectation, here 90.\n",
    "We are saying that prime numbers are 90% likely to be interesting.\n",
    "Why not 100%?\n",
    "Remember that we set our base rate to 10%, which means we are looking specifically for the 10% of numbers that are the *most* interesting, so some of the prime numbers might not make the cut.\n",
    "A number that is both prime *and* ending in a 7 would match both of our hinters and would be boosted much more, so we'll definitely expect to see those ones if we take the top 10% of labels for the class.\n",
    "\n",
    "In the output after creating the external hinter, you can see that there is now a hinter in the list with name \"prime\" and a query \"\\[external\\]\".\n",
    "Compare this to the hinter we created before which has the query `/7$/`.\n",
    "This is the difference between a regular hinter, which is defined by what matches a query, and an external hinter.\n",
    "\n",
    "This is also why it's important that we give our external hinters names.\n",
    "If we look at the first hinter, we can see what it's doing because there's a query there, but for the second hinter, if we had several external hinters, we would have no idea what this one is doing if we hadn't given it a name.\n",
    "\n",
    "The `external_hinter()` API call provides \"\\[external\\]\" as the query value, which not a real query but a special value that Watchful recognizes.\n",
    "Unlike regular hinters, which are applied immediately, an external hinter will not be applied until we send the hint values, either true or false, for each candidate.\n",
    "\n",
    "Note that the `hit_ratio` in a hinter, seen above, indicates both the number of positive matches (the first number) and the number of candidates that have been examined so far (the second number).\n",
    "In our new external hinter, both of these numbers will be 0, because the system is waiting for us to give it these values.\n",
    "With a regular hinter that is defined by a query, you can see both these numbers go up as the entire dataset is queried, just like with the `query_examined` and `query_hit_count` values that we saw before.\n",
    "\n",
    "Now we'll provide the values for this hinter."
   ]
  },
  {
   "cell_type": "code",
   "execution_count": 15,
   "metadata": {},
   "outputs": [
    {
     "name": "stdout",
     "output_type": "stream",
     "text": [
      "[{'hit_ratio': [100, 1000], 'id': 1, 'label': 'Interesting', 'name': '', 'query': '/7$/', 'weight': 80}, {'hit_ratio': [0, 0], 'id': 2, 'label': 'Interesting', 'name': 'prime', 'query': '[external]', 'weight': 90}]\n",
      "working\n"
     ]
    }
   ],
   "source": [
    "# we will iterate over all candidates, and store the values as we go, \n",
    "# then provide all the candidates' hint values at once with `hint_all`\n",
    "values = []\n",
    "\n",
    "for candidate in w.dump():\n",
    "    n = int(candidate[0])\n",
    "    is_prime = not any(map(lambda x: n % x == 0, range(2,32)))\n",
    "    values.append(is_prime)\n",
    "    \n",
    "# Using `hint_all` because we already have all the values in memory,\n",
    "# but if the dataset is large, you can stream your hints back in chunks.\n",
    "summary = w.hint_all(\"prime\", values)\n",
    "print(summary[\"hinters\"])\n",
    "print(summary[\"status\"])"
   ]
  },
  {
   "cell_type": "markdown",
   "metadata": {},
   "source": [
    "`dump()` is a special API call used for external hinting.\n",
    "Behind the scenes, it is making multiple calls to the API to get candidates in chunks.\n",
    "If your dataset is very large, you may want to stream the results back to the system as well, rather than creating a single array of values as we are doing here.\n",
    "If you need to do this, check out the implementation of `hint_all()` and the other `hint` functions for details.\n",
    "\n",
    "While we have a table of numbers here, candidate data is stored as strings, so we'll need to convert from string to number.\n",
    "\n",
    "When you run `hint_all()` the new hint values will be applied in the background, which means the summary returned from the `hint_all()` call itself may not show that much has changed. Note that the `hit_ratio` is still 0/0 in the immediate return from `hint_all()`. The `status` property on the summary object also shows \"working\" to show that background work is continuing. You can call `get` a moment later to see the results:"
   ]
  },
  {
   "cell_type": "code",
   "execution_count": 16,
   "metadata": {},
   "outputs": [
    {
     "name": "stdout",
     "output_type": "stream",
     "text": [
      "[{'hit_ratio': [100, 1000], 'id': 1, 'label': 'Interesting', 'name': '', 'query': '/7$/', 'weight': 80}, {'hit_ratio': [158, 1000], 'id': 2, 'label': 'Interesting', 'name': 'prime', 'query': '[external]', 'weight': 90}]\n",
      "current\n"
     ]
    }
   ],
   "source": [
    "summary = w.get()\n",
    "print(summary[\"hinters\"])\n",
    "print(summary[\"status\"])"
   ]
  },
  {
   "cell_type": "markdown",
   "metadata": {},
   "source": [
    "Now we can see the hit ratio for our external hinter.\n",
    "\n",
    "So, apparently, there are 158 prime numbers under 1000.\n",
    "\n",
    "Finally we can look at some candidates and see which ones matched which hinters, and what probability was assigned for our class:"
   ]
  },
  {
   "cell_type": "code",
   "execution_count": 17,
   "metadata": {},
   "outputs": [
    {
     "data": {
      "text/plain": [
       "[('677', [1, 2], 100),\n",
       " ('351', [], 0),\n",
       " ('153', [], 0),\n",
       " ('598', [], 0),\n",
       " ('952', [], 0),\n",
       " ('258', [], 0),\n",
       " ('507', [1], 100),\n",
       " ('860', [], 0)]"
      ]
     },
     "execution_count": 17,
     "metadata": {},
     "output_type": "execute_result"
    }
   ],
   "source": [
    "list(map(lambda c: (c[\"fields\"][0], c[\"hints\"], c[\"labels\"][\"Interesting\"]), w.query(\"\")[\"candidates\"]))"
   ]
  },
  {
   "cell_type": "markdown",
   "metadata": {},
   "source": [
    "Note that we're just doing `w.query(\"\")` with an empty query string to get everything.\n",
    "We could have done `w.get()` again, but that would give the results of the current query, which was `/88/` from before."
   ]
  },
  {
   "cell_type": "markdown",
   "metadata": {},
   "source": [
    "## Deleting hinters and classes\n",
    "\n",
    "Now that we've created some hinters, we can also delete them.\n",
    "\n",
    "You can delete a class as well, but you have to delete all the hinters in it first.\n",
    "\n",
    "Hinters are deleted by id and classes by name."
   ]
  },
  {
   "cell_type": "code",
   "execution_count": 18,
   "metadata": {},
   "outputs": [
    {
     "data": {
      "text/plain": [
       "[{'hit_ratio': [100, 1000],\n",
       "  'id': 1,\n",
       "  'label': 'Interesting',\n",
       "  'name': '',\n",
       "  'query': '/7$/',\n",
       "  'weight': 80},\n",
       " {'hit_ratio': [158, 1000],\n",
       "  'id': 2,\n",
       "  'label': 'Interesting',\n",
       "  'name': 'prime',\n",
       "  'query': '[external]',\n",
       "  'weight': 90}]"
      ]
     },
     "execution_count": 18,
     "metadata": {},
     "output_type": "execute_result"
    }
   ],
   "source": [
    "w.get()['hinters']"
   ]
  },
  {
   "cell_type": "code",
   "execution_count": 19,
   "metadata": {},
   "outputs": [
    {
     "data": {
      "text/plain": [
       "['Interesting']"
      ]
     },
     "execution_count": 19,
     "metadata": {},
     "output_type": "execute_result"
    }
   ],
   "source": [
    "w.delete(1)\n",
    "w.delete(2)\n",
    "\n",
    "summary = w.get()\n",
    "list(summary['classes'].keys())"
   ]
  },
  {
   "cell_type": "code",
   "execution_count": 20,
   "metadata": {},
   "outputs": [
    {
     "data": {
      "text/plain": [
       "[]"
      ]
     },
     "execution_count": 20,
     "metadata": {},
     "output_type": "execute_result"
    }
   ],
   "source": [
    "summary = w.delete_class(\"Interesting\")\n",
    "list(summary['classes'].keys())"
   ]
  },
  {
   "cell_type": "markdown",
   "metadata": {},
   "source": [
    "# When you're done, you can shut down the backend\n",
    "\n",
    "This terminates the backend process that we started with `ephemeral()`.\n",
    "\n",
    "If you run the app yourself and connect with `external()`, this would also exit the app."
   ]
  },
  {
   "cell_type": "code",
   "execution_count": 21,
   "metadata": {},
   "outputs": [],
   "source": [
    "w.exit_backend()"
   ]
  },
  {
   "cell_type": "markdown",
   "metadata": {},
   "source": [
    "# More\n",
    "\n",
    "The entire backend API is documented in watchful/web/api.md, and you can access any API features with the generic `api()` call taking a verb as the first argument, and named parameters for the verb's arguments.\n",
    "\n",
    "You can also look at `watchful.py` for other API methods we didn't cover here."
   ]
  }
 ],
 "metadata": {
  "kernelspec": {
   "display_name": "api_intro_py3_8_12",
   "language": "python",
   "name": "api_intro_py3_8_12"
  },
  "language_info": {
   "codemirror_mode": {
    "name": "ipython",
    "version": 3
   },
   "file_extension": ".py",
   "mimetype": "text/x-python",
   "name": "python",
   "nbconvert_exporter": "python",
   "pygments_lexer": "ipython3",
   "version": "3.8.12"
  }
 },
 "nbformat": 4,
 "nbformat_minor": 2
}
