{
 "cells": [
  {
   "cell_type": "markdown",
   "id": "dc78402f",
   "metadata": {},
   "source": [
    "# Watchful Data Enrichment API\n",
    "\n",
    "Now that you have gone through the API introduction notebook, you are ready to explore the data enrichment API.\n",
    "\n",
    "Everything here is in Python; you can use the code segments outside a Jupyter notebook as well.\n",
    "\n",
    "By now, your hosted Watchful application instance should be spun up by your ops team, already up and running.\n",
    "For the purpose of experimenting with the API, you will connect to your hosted Watchful application instance in this notebook.\n",
    "\n",
    "We recommend the Python 3.8.12 environment as it is used to build the SDK and run this notebook.\n",
    "Generally, Python >=3.7 and <=3.10.9 should work."
   ]
  },
  {
   "cell_type": "markdown",
   "id": "f3efe27e",
   "metadata": {},
   "source": [
    "## Installing dependencies and Watchful SDK"
   ]
  },
  {
   "cell_type": "code",
   "execution_count": 1,
   "id": "8fef940b-aed5-4b60-a86a-3a55f204b6f0",
   "metadata": {},
   "outputs": [],
   "source": [
    "# Install the dependencies\n",
    "import sys\n",
    "!{sys.executable} -m pip install -r requirements_enrichment_intro.txt"
   ]
  },
  {
   "cell_type": "code",
   "execution_count": 2,
   "id": "a8c63500",
   "metadata": {},
   "outputs": [
    {
     "data": {
      "text/plain": [
       "'3.5.0'"
      ]
     },
     "execution_count": 2,
     "metadata": {},
     "output_type": "execute_result"
    }
   ],
   "source": [
    "# Import Watchful SDK\n",
    "import watchful as w\n",
    "w.__version__"
   ]
  },
  {
   "cell_type": "markdown",
   "id": "3acdcac0",
   "metadata": {},
   "source": [
    "## Connecting to your already-running Watchful application instance\n",
    "\n",
    "Here, you can connect to your already-running Watchful application instance and its currently active project.\n",
    "\n",
    "Here's what that would look like:"
   ]
  },
  {
   "cell_type": "code",
   "execution_count": 3,
   "id": "b10efeb8-6d65-417a-8108-d2d719d1bac7",
   "metadata": {},
   "outputs": [],
   "source": [
    "# Connect to your hosted Watchful application instance\n",
    "host = \"your.watchful.application.host\"  # change this string to your actual host\n",
    "port = \"9001\"\n",
    "w.external(host, port)"
   ]
  },
  {
   "cell_type": "markdown",
   "id": "e95005ed",
   "metadata": {},
   "source": [
    "We can do a sanity check here by calling `w.get()`.\n",
    "After you've connected to your hosted Watchful application instance, this function can be called anytime you like to check on its status.\n",
    "\n",
    "As you've seen in the API introduction notebook, `w.get()` returns a response that contains information such as your currently active project, dataset examples (candidates) and classes, hinters created, hand labels and label distribution, confidences and error rate, recall and precision and many more.\n",
    "\n",
    "If your running Watchful application instance has an opened project, it should look like this:"
   ]
  },
  {
   "cell_type": "code",
   "execution_count": 4,
   "id": "0eed9d48",
   "metadata": {
    "scrolled": true
   },
   "outputs": [
    {
     "name": "stdout",
     "output_type": "stream",
     "text": [
      "{   'auto_complete': {   'end': 4,\n",
      "                         'start': 0,\n",
      "                         'values': ['CELLS', 'ROWS', 'SENTS', 'TOKS']},\n",
      "    'cand_seq_full': 1,\n",
      "    'cand_seq_prefix': 1,\n",
      "    'candidates': [],\n",
      "    'classes': {},\n",
      "    'datasets': ['7846c6da-c2c7-40cc-9380-912666007680'],\n",
      "    'disagreements': [],\n",
      "    'error_msg': None,\n",
      "    'error_verb': None,\n",
      "    'export_preview': None,\n",
      "    'exports': [],\n",
      "    'field_names': ['Review1', 'Review2'],\n",
      "    'hand_labels': None,\n",
      "    'hinters': [],\n",
      "    'is_shared': False,\n",
      "    'messages': [],\n",
      "    'n_candidates': 3,\n",
      "    'n_handlabels': 0,\n",
      "    'ner_hl_text': None,\n",
      "    'notifications': [],\n",
      "    'precision_candidate': {'candidate': [], 'mode': 'ner'},\n",
      "    'project_config': {},\n",
      "    'project_id': '2022-08-04.hints',\n",
      "    'published_title': None,\n",
      "    'pull_actions': [],\n",
      "    'push_actions': [],\n",
      "    'query': 'TOKS: [entity MISC]',\n",
      "    'query_breakdown': {   'depths': [0, 1],\n",
      "                           'hits': [0, 0],\n",
      "                           'offsets': [[[0, 5], [6, 19]], [[0, 5], [6, 19]]],\n",
      "                           'values': [   'TOKS: [entity MISC]',\n",
      "                                         'TOKS: [entity MISC]']},\n",
      "    'query_completed': True,\n",
      "    'query_end': True,\n",
      "    'query_examined': 2153,\n",
      "    'query_full_rows': False,\n",
      "    'query_history': {'hits': [0], 'values': ['TOKS: [entity MISC]']},\n",
      "    'query_hit_count': 0,\n",
      "    'query_page': 0,\n",
      "    'selected_class': '',\n",
      "    'selections': [],\n",
      "    'show_notification_badge': False,\n",
      "    'state_seq': 8358,\n",
      "    'status': 'current',\n",
      "    'suggestion': None,\n",
      "    'suggestions': {'negative': [], 'positive': []},\n",
      "    'title': 'Untitled Project 2022-08-04',\n",
      "    'unlabeled_candidate': [   'This sweeping drama has it all: top notch '\n",
      "                               'acting, incredible photography, good story. It '\n",
      "                               'is often compared to \"Braveheart\" because both '\n",
      "                               'movies take place in historical Scotland. Even '\n",
      "                               'though I love Braveheart, I think this is the '\n",
      "                               'better of the two films. Jessica Lange gave an '\n",
      "                               'incredible performance (should have been '\n",
      "                               'nominated for an Oscar). Liam Neeson is '\n",
      "                               'fantastic in the title role. Tim Roth plays '\n",
      "                               'one of the most evil, despicable, characters '\n",
      "                               'in film history (he was nominated for an '\n",
      "                               'Oscar). John Hurt is excellent as Lord '\n",
      "                               'Montrose, another dislikeable character. I am '\n",
      "                               'always amazed at the incredible range of '\n",
      "                               'characters that John Hurt can play. This is a '\n",
      "                               'story of a dispute over money between Rob Roy '\n",
      "                               'and his clan, and Lord Montrose. Rob Roy is a '\n",
      "                               'self made man, who will not solve his problems '\n",
      "                               'with Montrose if it violates his sense of '\n",
      "                               'honor. Montrose, who, inherited his title, has '\n",
      "                               'no sense of honor. And that is basically what '\n",
      "                               'this story is all about; honor of the common '\n",
      "                               'man versus corruption of the nobility. This '\n",
      "                               'movie is very entertaining, it should appeal '\n",
      "                               'to all. It has romance, action, beautiful '\n",
      "                               'scenery, and has a exciting plot. One of my '\n",
      "                               'favorite films.',\n",
      "                               \"If there's one thing you can count on Disney \"\n",
      "                               \"to do, it's their uncanny ability to take a \"\n",
      "                               'story and tell it again and again and again. '\n",
      "                               'Even watching the commercial for Lady and the '\n",
      "                               \"Tramp II was a horrible experience. Disney's \"\n",
      "                               'going to ruin one of their most awesome '\n",
      "                               'classics ever. It even had that spaghetti '\n",
      "                               \"meatball scene. It's been done before! And \"\n",
      "                               \"that's what I say to this sorry direct to \"\n",
      "                               'video(the entire concept should be banned). '\n",
      "                               'Everything is just a rehash of the original '\n",
      "                               \"movie and even several of Bluth's really bad \"\n",
      "                               \"movies. The penguin and walrus duo(I've even \"\n",
      "                               'forgotten their names) are just a really poor '\n",
      "                               'carbon copy of Timon and Pumbaa. Morgana is '\n",
      "                               'another Ursula. She even repeats practically '\n",
      "                               'all her old lines. The songs are pathetic, '\n",
      "                               \"really abysmal. I've never heard songs so bad \"\n",
      "                               'from them before until now. And the dialogue '\n",
      "                               \"is atrocious. It's pathetic and simplistic. On \"\n",
      "                               'the plus side, at least they took the time to '\n",
      "                               'make the animation somewhat decent. All of the '\n",
      "                               \"usual characters aren't as annoying as they \"\n",
      "                               \"used to be(or maybe that's a minus for Little \"\n",
      "                               'Mermaid fans). Back on the negative, Melody is '\n",
      "                               'just so sickeningly cute you just might vomit. '\n",
      "                               'I almost did. Do yourself and your Little '\n",
      "                               \"Mermaid fan a favor. Don't waste your money on \"\n",
      "                               \"this. True, it's not as horrific as Return of \"\n",
      "                               \"Jafar or Pocahontas II, but that's little \"\n",
      "                               'consolation.'],\n",
      "    'watchful_home': '/root/watchful'}\n"
     ]
    }
   ],
   "source": [
    "import pprint\n",
    "pp = pprint.PrettyPrinter(indent=4).pprint\n",
    "pp(w.get())"
   ]
  },
  {
   "cell_type": "markdown",
   "id": "3f443355-a75c-4900-96e1-5664f57e32c9",
   "metadata": {},
   "source": [
    "Now, you can create a new project with w.create_project(), then give it the title \"My Project\" by calling w.title(\"My Project\").\n",
    "\n",
    "The summary below is empty because we don't have any data yet, but it shows the fields that are always there."
   ]
  },
  {
   "cell_type": "code",
   "execution_count": 5,
   "id": "6ac700a2-3b9e-462a-a71e-9cd8247bcf1c",
   "metadata": {},
   "outputs": [
    {
     "data": {
      "text/plain": [
       "b'\"OK\"\\n'"
      ]
     },
     "execution_count": 5,
     "metadata": {},
     "output_type": "execute_result"
    }
   ],
   "source": [
    "w.create_project()"
   ]
  },
  {
   "cell_type": "code",
   "execution_count": 6,
   "id": "c4d6d97a-d01f-48c2-a5ed-41fb5c964b63",
   "metadata": {
    "scrolled": true,
    "tags": []
   },
   "outputs": [
    {
     "data": {
      "text/plain": [
       "{'error_msg': None,\n",
       " 'error_verb': None,\n",
       " 'status': 'current',\n",
       " 'title': 'My Project',\n",
       " 'project_id': '2022-11-16 (8).hints',\n",
       " 'watchful_home': '/root/watchful',\n",
       " 'published_title': None,\n",
       " 'is_shared': False,\n",
       " 'pull_actions': [],\n",
       " 'push_actions': [],\n",
       " 'state_seq': 8800,\n",
       " 'cand_seq_prefix': 0,\n",
       " 'cand_seq_full': 0,\n",
       " 'n_candidates': 0,\n",
       " 'n_handlabels': 0,\n",
       " 'datasets': [''],\n",
       " 'field_names': [],\n",
       " 'candidates': [],\n",
       " 'unlabeled_candidate': [],\n",
       " 'precision_candidate': {'mode': 'ner', 'candidate': []},\n",
       " 'classes': {},\n",
       " 'hinters': [],\n",
       " 'ner_hl_text': None,\n",
       " 'hand_labels': None,\n",
       " 'disagreements': [],\n",
       " 'query': '',\n",
       " 'query_page': 0,\n",
       " 'query_end': True,\n",
       " 'query_hit_count': 0,\n",
       " 'query_examined': 0,\n",
       " 'query_breakdown': {'values': [], 'offsets': [], 'hits': [], 'depths': []},\n",
       " 'query_completed': True,\n",
       " 'query_full_rows': False,\n",
       " 'auto_complete': {'values': [], 'start': 0, 'end': 0},\n",
       " 'query_history': {'values': [], 'hits': []},\n",
       " 'selections': [],\n",
       " 'selected_class': '',\n",
       " 'suggestions': {'positive': [], 'negative': []},\n",
       " 'suggestion': None,\n",
       " 'exports': [],\n",
       " 'export_preview': None,\n",
       " 'project_config': {},\n",
       " 'messages': [],\n",
       " 'show_notification_badge': False,\n",
       " 'notifications': []}"
      ]
     },
     "execution_count": 6,
     "metadata": {},
     "output_type": "execute_result"
    }
   ],
   "source": [
    "w.title(\"My Project\")"
   ]
  },
  {
   "cell_type": "markdown",
   "id": "81456e6b-e6bd-4e76-ae0e-421d2315a237",
   "metadata": {},
   "source": [
    "Next, we create a toy dataset using data of some companies from Wikipedia (https://en.wikipedia.org/wiki), and add it to the project you have just created. The returned `dataset_id` indicates that the dataset has been created for use in the Watchful application instance.\n",
    "\n",
    "You can see that the dataset has 2 columns, `Company_info` and `Company_founders`, and there are 3 rows of data. `Company_info` shares some background information about the company while `Company_founders` shares who the founders are. This is the data that will be enriched in the later part of this notebook.\n",
    "\n",
    "After we have enriched this data in the later part of this notebook, we can refer back here to do a sanity-check of the enriched attributes with this dataset."
   ]
  },
  {
   "cell_type": "code",
   "execution_count": 7,
   "id": "9e4b86bd-c041-408f-b68c-95c8a9af834b",
   "metadata": {},
   "outputs": [
    {
     "data": {
      "text/plain": [
       "'d41bf7fa-25b5-438f-921e-23b7673849ab'"
      ]
     },
     "execution_count": 7,
     "metadata": {},
     "output_type": "execute_result"
    }
   ],
   "source": [
    "header = \"Company_info,Company_founders\"\n",
    "data = '''\\\n",
    "\"Microsoft Corporation is an American multinational technology corporation \\\n",
    "producing computer software, consumer electronics, personal computers, and \\\n",
    "related services headquartered at the Microsoft Redmond campus located in \\\n",
    "Redmond, Washington, United States.\",\"Microsoft was founded by Bill Gates and \\\n",
    "Paul Allen on April 4, 1975, to develop and sell BASIC interpreters for the \\\n",
    "Altair 8800.\"\\n\\\n",
    "\"Alphabet Inc. is an American multinational technology conglomerate holding \\\n",
    "company headquartered in Mountain View, California.\",\"Founders Larry Page and \\\n",
    "Sergey Brin announced their resignation from their executive posts in December \\\n",
    "2019, with the CEO role to be filled by Sundar Pichai, also the CEO of Google.\"\\n\\\n",
    "\"Amazon.com, Inc. is an American multinational technology company focusing on \\\n",
    "e-commerce, cloud computing, online advertising, digital streaming, and \\\n",
    "artificial intelligence.\",\"Amazon was founded by Jeff Bezos from his garage in \\\n",
    "Bellevue, Washington on July 5, 1994.\"\\n\\\n",
    "\"Amazon.com, Inc. is an American multinational technology company focusing on \\\n",
    "e-commerce, cloud computing, online advertising, digital streaming, and \\\n",
    "artificial intelligence.\",\"Amazon was founded by Jeff Bezos from his garage in \\\n",
    "Bellevue, Washington, on July 5, 1994.\"\n",
    "'''\n",
    "dataset_id = w.create_dataset((\"{}\\n{}\").format(header, data).encode(\"utf-8\"), header.split(\",\"))\n",
    "dataset_id"
   ]
  },
  {
   "cell_type": "markdown",
   "id": "c652eaba",
   "metadata": {},
   "source": [
    "# A walk-through of the data enrichment API\n",
    "\n",
    "Now that you're connected to your Watchful application, let's take a look at the data enrichment API using an example."
   ]
  },
  {
   "cell_type": "markdown",
   "id": "089b2520-7e0a-4c40-a8d9-3d517b772bde",
   "metadata": {
    "tags": []
   },
   "source": [
    "## Creating your enricher class\n",
    "\n",
    "To enrich your data that is loaded into your Watchful application, you'd need to create an enricher class that inherits from Watchful's `Enricher` abstract class. Your enricher class should also implement the `__init__` and `enrich_fn` methods. In the example below, you can see that the data enricher class is `NEREnricher` and within it the  `__init__` and `enrich_fn` methods have been implemented.\n",
    "\n",
    "The `__init__` method is used to initialize your data enrichment objects, such as your model (that is used for data enrichment) and functions that, when put together, perform the data enrichment. In here you can include other variables that matter to your enrichment logic, such as parameters. In the example below, you can see that inside `__init__`, `tagger` is a model and `predict` is a function that makes a prediction using the `tagger` model on the input `sent`. On the last line of the `__init__` method, these enrichment objects are saved as a tuple into `enrichment_args`. We finally set the `order` attribute of the enrichment function `enrich_fn` to either \"row\" or \"col\" so that we indicate to the Watchful enrichment algorithm the intended enrichment order.\n",
    "\n",
    "The `enrich_fn` method is applied to every input `row`or `col` of your data to effect the data enrichment. Every row or column of your data comprise a number of cells, so eventually a list of enriched cells, `List[EnrichedCell]`, should be returned from this function. Every `EnrichedCell` conforms to the Watchful formatting for enriched data in a cell of the dataset, so that the enriched data can be parsed by your Watchful application. At the start, the enrichment objects are unpacked on the first line of the `enrich_fn` method. Next, we create `enriched_fn` as an empty list (of to-be `enriched_cells`). Then we iterate over every cell of the input `row` or `col`; in every iteration we apply the `predict` method to the cell, create an `enriched_cell` as an empty list (of to-be attributes), extract and insert all the available attributes, i.e. the NER entities (spans(offsets), entity and score), into the `enriched_cell`. We also perform an optional post-processing step that adjusts the byte offsets of the spans to character offsets. Finally, the completed `enriched_row` or `enriched_col` is returned.\n",
    "\n",
    "It is worthy to note that the input `row` is a dictionary of column names to column values for that row, and an input `col` is a tuple of the column name and the values for that column. Therefore, you can make use of the column names to apply different enrichment logic to different columns, if you wish to do so."
   ]
  },
  {
   "cell_type": "code",
   "execution_count": 8,
   "id": "524e34b6-318c-4e0d-ab4c-7ac88c2696f0",
   "metadata": {},
   "outputs": [],
   "source": [
    "################################################################################\n",
    "\"\"\"\n",
    "Your enricher should inherit from Watchful's `Enricher` interface and\n",
    "implement the methods `__init__` and `enrich_fn` with the same \n",
    "signatures.\n",
    "\"\"\"\n",
    "\n",
    "import os\n",
    "import pprint\n",
    "import sys\n",
    "from typing import Dict, List, Optional, Tuple\n",
    "from watchful.enricher import EnrichedCell, Enricher, set_enrich_fn_order\n",
    "from watchful.attributes import adjust_span_offsets_from_char_to_byte\n",
    "\n",
    "pprint._sorted = lambda x: x\n",
    "pprint = pprint.PrettyPrinter(indent=4).pprint\n",
    "\n",
    "\n",
    "class NEREnricher(Enricher):\n",
    "    \"\"\"\n",
    "    This is an example of a customized enricher class that inherits from the\n",
    "    `Enricher` interface, with subsequent implementation of the methods\n",
    "    `__init__` and `enrich_fn` with the same signatures.\n",
    "    \"\"\"\n",
    "\n",
    "    def __init__(self) -> None:\n",
    "        \"\"\"\n",
    "        In this function, we create variables that we will later use in\n",
    "        `enrich_fn` to enrich our data row-wise or column-wise.\n",
    "        \"\"\"\n",
    "\n",
    "        global Sentence\n",
    "        from flair.data import Sentence\n",
    "        from flair.models import SequenceTagger\n",
    "        import logging\n",
    "        import warnings\n",
    "\n",
    "        logging.getLogger(\"flair\").setLevel(logging.ERROR)\n",
    "        warnings.filterwarnings(\"ignore\", module=\"huggingface_hub\")\n",
    "\n",
    "        tagger = SequenceTagger.load(\"ner\")\n",
    "\n",
    "        def predict(sent: Sentence) -> None:\n",
    "            tagger.predict(sent)\n",
    "\n",
    "        self.enrichment_args = (predict,)\n",
    "\n",
    "    @set_enrich_fn_order(order=\"row\")\n",
    "    def enrich_fn(\n",
    "        self,\n",
    "        row: Dict[Optional[str], Optional[str]],\n",
    "    ) -> List[EnrichedCell]:\n",
    "        \"\"\"\n",
    "        In this function, we use our variables from `self.enrichment_args` to\n",
    "        enrich every row or column of your data. The return value is our\n",
    "        enriched row or column. In this example, we enrich by rows instead of\n",
    "        columns.\n",
    "        \"\"\"\n",
    "\n",
    "        predict, = self.enrichment_args\n",
    "\n",
    "        enriched_row = []\n",
    "\n",
    "        for cell in row.values():\n",
    "            sent = Sentence(cell)\n",
    "            predict(sent)\n",
    "\n",
    "            enriched_cell = []\n",
    "\n",
    "            ent_spans = []\n",
    "            ent_values = []\n",
    "            ent_scores = []\n",
    "            for ent in sent.get_spans(\"ner\"):\n",
    "                spans = (ent.start_position, ent.end_position)\n",
    "                ent_spans.append(spans)\n",
    "                ent_value = ent.get_label(\"ner\").value\n",
    "                ent_values.append(ent_value)\n",
    "                ent_score = str(int(round(ent.get_label(\"ner\").score, 2) * 100))\n",
    "                ent_scores.append(ent_score)\n",
    "                \n",
    "            enriched_cell.append(\n",
    "                (ent_spans, {\"entity\": ent_values, \"score\": ent_scores}, \"ENTS\")\n",
    "            )\n",
    "\n",
    "            adjust_span_offsets_from_char_to_byte(cell, enriched_cell)\n",
    "\n",
    "            enriched_row.append(enriched_cell)\n",
    "\n",
    "        \"\"\"\n",
    "        Prints your enriched row or column so you can see the intermediate\n",
    "        output in this notebook later on. Comment this if you are enriching a\n",
    "        large dataset.\n",
    "        \"\"\"\n",
    "        print(\"Enriched row:\")\n",
    "        pprint(enriched_row)\n",
    "        print(\"*\" * 80)\n",
    "\n",
    "        return enriched_row"
   ]
  },
  {
   "cell_type": "markdown",
   "id": "2cf368e4-2c37-41c6-8cc8-0fa839e395b1",
   "metadata": {},
   "source": [
    "## Enriching your data\n",
    "\n",
    "Having specified your enricher class, you're ready to perform data enrichment.\n",
    "\n",
    "It is straightforward; simply pass your enricher class to the `enrich_dataset` function; Watchful SDK and your Watchful application will take care of all the data processing work for you."
   ]
  },
  {
   "cell_type": "code",
   "execution_count": null,
   "id": "93f59a15-9ff4-4365-849d-0b0a74259fe2",
   "metadata": {
    "scrolled": true,
    "tags": []
   },
   "outputs": [
    {
     "name": "stdout",
     "output_type": "stream",
     "text": [
      "Using your custom enricher ...\n",
      "Enriching ~/watchful/working/28104ef2-8eca-4015-a92f-c137a322d9a2 ...\n",
      "Enriched row:\n",
      "[   [   (   [(0, 21), (28, 36), (187, 204), (223, 230), (232, 242), (244, 257)],\n",
      "            {   'entity': ['ORG', 'MISC', 'ORG', 'LOC', 'LOC', 'LOC'],\n",
      "                'score': ['99', '97', '73', '100', '99', '100']},\n",
      "            'ENTS')],\n",
      "    [   (   [(0, 9), (25, 35), (40, 50), (116, 127)],\n",
      "            {   'entity': ['ORG', 'PER', 'PER', 'MISC'],\n",
      "                'score': ['100', '100', '100', '88']},\n",
      "            'ENTS')]]\n",
      "********************************************************************************\n",
      "Enriched row:\n",
      "[   [   (   [(0, 13), (20, 28), (100, 113), (115, 125)],\n",
      "            {   'entity': ['ORG', 'MISC', 'LOC', 'LOC'],\n",
      "                'score': ['100', '99', '100', '100']},\n",
      "            'ENTS')],\n",
      "    [   (   [(9, 19), (24, 35), (143, 156), (174, 180)],\n",
      "            {   'entity': ['PER', 'PER', 'PER', 'ORG'],\n",
      "                'score': ['100', '100', '99', '100']},\n",
      "            'ENTS')]]\n",
      "********************************************************************************\n",
      "Enriched row:\n",
      "[   [   (   [(0, 16), (23, 31)],\n",
      "            {'entity': ['ORG', 'MISC'], 'score': ['73', '99']},\n",
      "            'ENTS')],\n",
      "    [   (   [(0, 6), (22, 32), (52, 60), (62, 72)],\n",
      "            {   'entity': ['ORG', 'PER', 'LOC', 'LOC'],\n",
      "                'score': ['99', '100', '100', '100']},\n",
      "            'ENTS')]]\n",
      "********************************************************************************\n",
      "Enriched row:\n",
      "[   [   (   [(0, 16), (23, 31)],\n",
      "            {'entity': ['ORG', 'MISC'], 'score': ['73', '99']},\n",
      "            'ENTS')],\n",
      "    [   (   [(0, 6), (22, 32), (52, 60), (62, 72)],\n",
      "            {   'entity': ['ORG', 'PER', 'LOC', 'LOC'],\n",
      "                'score': ['99', '100', '100', '100']},\n",
      "            'ENTS')]]\n",
      "********************************************************************************\n",
      "Ingested attributes via watchful 0.0.0.0:9001 to dataset id d41bf7fa-25b5-438f-921e-23b7673849ab.\n"
     ]
    }
   ],
   "source": [
    "from watchful.enrich import enrich_dataset\n",
    "enrich_dataset(NEREnricher, [\"--host\", host, \"--port\", port, \"--dataset_id\", dataset_id])"
   ]
  },
  {
   "cell_type": "markdown",
   "id": "c308bfcf-148b-4fe2-bc36-9274f894b0c3",
   "metadata": {},
   "source": [
    "## Querying your enriched data \n",
    "\n",
    "Now that you've enriched your data in your Watchful application, you can query your data to verify that enrichment has indeed been successfully performed.\n",
    "\n",
    "We do this by calling the `query` function, to query for the `LOC`, `ORG`, `PER` and `MISC` attributes that were created by your enrichment class.\n",
    "\n",
    "We can see that the query results indeed belong to the respective query attributes. You could also compare the attibutes produced here with your dataset loaded earlier in the notebook, or go back to your Watchful application and run the queries to see the same results in the UI."
   ]
  },
  {
   "cell_type": "code",
   "execution_count": 10,
   "id": "3999dc62-2668-4a3d-8dfd-843410c17850",
   "metadata": {},
   "outputs": [
    {
     "name": "stdout",
     "output_type": "stream",
     "text": [
      "LOC:\n",
      "[['Redmond', ''], ['Washington', ''], ['United', ''], ['States', ''], ['Mountain', ''], ['View', ''], ['California', ''], ['', 'Bellevue']]\n",
      "\n",
      "ORG:\n",
      "[['Microsoft', ''], ['Corporation', ''], ['Microsoft', ''], ['Redmond', ''], ['', 'Microsoft'], ['Alphabet', ''], ['Inc', ''], ['.', '']]\n",
      "\n",
      "PER:\n",
      "[['', 'Bill'], ['', 'Gates'], ['', 'Paul'], ['', 'Allen'], ['', 'Larry'], ['', 'Page'], ['', 'Sergey'], ['', 'Brin']]\n",
      "\n",
      "MISC:\n",
      "[['American', ''], ['', 'Altair'], ['', '8800'], ['American', ''], ['American', ''], ['American', '']]\n",
      "\n"
     ]
    }
   ],
   "source": [
    "def query_to_fields(query_str):\n",
    "    query_res = w.query(query_str)\n",
    "    return [attr_data[\"fields\"] for attr_data in query_res[\"candidates\"]]\n",
    "\n",
    "for entity_value in [\"LOC\", \"ORG\", \"PER\", \"MISC\"]:\n",
    "    query = f\"TOKS: [entity {entity_value}]\"\n",
    "    fields = query_to_fields(query)\n",
    "    print(f\"{entity_value}:\\n{fields}\\n\")"
   ]
  },
  {
   "cell_type": "markdown",
   "id": "de50ea63",
   "metadata": {},
   "source": [
    "# Exploring the data enrichment API further\n",
    "\n",
    "You can also look at the `attributes.py`, `enricher.py` and `enrich.py` modules in the Watchful package for the data enrichment functions and classes, some of which are already covered above.\n",
    "\n",
    "A way to quickly explore them and their current documentation is to use the built-in `help` function, as shown below.\n",
    "\n",
    "You could also explore the Watchful package documentation hosted at https://watchful.readthedocs.io/en/stable/."
   ]
  },
  {
   "cell_type": "code",
   "execution_count": 11,
   "id": "2b86ea1e-0f3d-4aa3-aca1-df595de294f7",
   "metadata": {
    "scrolled": true,
    "tags": []
   },
   "outputs": [
    {
     "name": "stdout",
     "output_type": "stream",
     "text": [
      "Help on package watchful:\n",
      "\n",
      "NAME\n",
      "    watchful - Initializes ``watchful`` as a module.\n",
      "\n",
      "PACKAGE CONTENTS\n",
      "    attributes\n",
      "    client\n",
      "    enrich\n",
      "    enricher\n",
      "\n",
      "DATA\n",
      "    API_SUMMARY_HOOK_CALLBACK = None\n",
      "    API_TIMEOUT_SEC = 600\n",
      "    ATTR_WRITER = None\n",
      "    BASE = 64\n",
      "    COMPRESSED = {0: '#', 1: '$', 2: '%', 3: '&', 4: \"'\", 5: '(', 6: ')', ...\n",
      "    COMPRESSED_LEN = 8\n",
      "    Callable = typing.Callable\n",
      "    Dict = typing.Dict\n",
      "    ENRICHMENT_ARGS = None\n",
      "    EnrichedCell = typing.List[typing.Tuple[typing.Union[typing.Lis...ing....\n",
      "    Generator = typing.Generator\n",
      "    HOST = 'localhost'\n",
      "    IS_MULTIPROC = False\n",
      "    List = typing.List\n",
      "    Literal = typing.Literal\n",
      "    MULTIPROC_CHUNKSIZE = None\n",
      "    NUMERALS = {0: '0', 1: '1', 2: '2', 3: '3', 4: '4', 5: '5', 6: '6', 7:...\n",
      "    Optional = typing.Optional\n",
      "    PORT = '9002'\n",
      "    SCHEME = 'http'\n",
      "    Tuple = typing.Tuple\n",
      "    Union = typing.Union\n",
      "\n",
      "VERSION\n",
      "    3.5.0\n",
      "\n",
      "\n"
     ]
    }
   ],
   "source": [
    "help(w)"
   ]
  },
  {
   "cell_type": "markdown",
   "id": "b09d886f-6a79-4201-8b68-e3d5dc8c1158",
   "metadata": {},
   "source": [
    "To explore the `enricher.py` module:"
   ]
  },
  {
   "cell_type": "code",
   "execution_count": 12,
   "id": "f6132a44-2b5d-40ad-b9a6-22e631eaed64",
   "metadata": {
    "scrolled": true,
    "tags": []
   },
   "outputs": [
    {
     "name": "stdout",
     "output_type": "stream",
     "text": [
      "Help on module watchful.enricher in watchful:\n",
      "\n",
      "NAME\n",
      "    watchful.enricher\n",
      "\n",
      "DESCRIPTION\n",
      "    This script provides the abstract :class:`Enricher` class interface to be\n",
      "    inherited in your custom enricher class, where you can then implement your\n",
      "    custom data enrichment functions and models within :meth:`enrich_row`. Refer to\n",
      "    https://github.com/Watchfulio/watchful-py/blob/main/examples/enrichment_intro.ipynb\n",
      "    for a tutorial on how to implement your custom enricher class.\n",
      "\n",
      "CLASSES\n",
      "    builtins.object\n",
      "        Enricher\n",
      "    \n",
      "    class Enricher(builtins.object)\n",
      "     |  Enricher() -> None\n",
      "     |  \n",
      "     |  This is the abstract class that customized enricher classes should inherit,\n",
      "     |  and then implement the abstract methods :meth:`__init__` and\n",
      "     |  :meth:`enrich_row`.\n",
      "     |  \n",
      "     |  Methods defined here:\n",
      "     |  \n",
      "     |  __init__(self) -> None\n",
      "     |      In this method, we create variables that we will store in\n",
      "     |      :attr:`self.enrichment_args`. We then later use them in\n",
      "     |      :meth:`enrich_row` to enrich our data row by row. This :meth:`__init__`\n",
      "     |      method needs to be implemented in your enricher class.\n",
      "     |  \n",
      "     |  enrich_row(self, row: Dict[Union[str, NoneType], Union[str, NoneType]]) -> List[List[Tuple[Union[List[Tuple[int]], Dict[str, List[str]], str, NoneType]]]]\n",
      "     |      In this method, we use our variables from :attr:`self.enrichment_args`\n",
      "     |      initialized in :meth:`__init__` to enrich our data, row by row. The\n",
      "     |      return value is our enriched row. This :meth:`enrich_row` method needs\n",
      "     |      to be implemented in your enricher class.\n",
      "     |      \n",
      "     |      :param row: A dictionary containing string keys as the column names and\n",
      "     |          string values as the cell values, one for each cell of the row; the\n",
      "     |          rows are read using ``csv.reader`` on a csv file representing the\n",
      "     |          dataset.\n",
      "     |      :type row: Dict[Optional[str], Optional[str]]\n",
      "     |      :return: A list of ``attributes.EnrichedCell`` containing the attributes\n",
      "     |          for each cell, for the entire row.\n",
      "     |      :rtype: List[attributes.EnrichedCell]\n",
      "     |  \n",
      "     |  ----------------------------------------------------------------------\n",
      "     |  Class methods defined here:\n",
      "     |  \n",
      "     |  is_enricher(possibly_an_enricher: Generic[~T]) -> bool from abc.ABCMeta\n",
      "     |      This is a convenience method used for checking if\n",
      "     |      :class:`possibly_an_enricher` is indeed of the :class:`Enricher` class.\n",
      "     |      \n",
      "     |      :param possibly_an_enricher: A class that is possibly of the\n",
      "     |          :class:`Enricher` class.\n",
      "     |      :type possibly_an_enricher: Class\n",
      "     |      :return: A boolean indicating if :class:`possibly_an_enricher` is\n",
      "     |          indeed of the :class:`Enricher` class.\n",
      "     |      :rtype: bool\n",
      "     |  \n",
      "     |  ----------------------------------------------------------------------\n",
      "     |  Data descriptors defined here:\n",
      "     |  \n",
      "     |  __dict__\n",
      "     |      dictionary for instance variables (if defined)\n",
      "     |  \n",
      "     |  __weakref__\n",
      "     |      list of weak references to the object (if defined)\n",
      "     |  \n",
      "     |  ----------------------------------------------------------------------\n",
      "     |  Data and other attributes defined here:\n",
      "     |  \n",
      "     |  __abstractmethods__ = frozenset({'__init__', 'enrich_row'})\n",
      "\n",
      "DATA\n",
      "    Dict = typing.Dict\n",
      "    List = typing.List\n",
      "    Optional = typing.Optional\n",
      "\n",
      "\n"
     ]
    }
   ],
   "source": [
    "help(w.enricher)"
   ]
  }
 ],
 "metadata": {
  "kernelspec": {
   "display_name": "watchful_enrichment_intro_py3_8_12",
   "language": "python",
   "name": "watchful_enrichment_intro_py3_8_12"
  },
  "language_info": {
   "codemirror_mode": {
    "name": "ipython",
    "version": 3
   },
   "file_extension": ".py",
   "mimetype": "text/x-python",
   "name": "python",
   "nbconvert_exporter": "python",
   "pygments_lexer": "ipython3",
   "version": "3.8.12"
  }
 },
 "nbformat": 4,
 "nbformat_minor": 5
}
